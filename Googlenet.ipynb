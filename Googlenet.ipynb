{
 "cells": [
  {
   "cell_type": "markdown",
   "metadata": {},
   "source": [
    "## 1. Googlenet"
   ]
  },
  {
   "cell_type": "markdown",
   "metadata": {},
   "source": [
    "#### 1.1. Import Libraries"
   ]
  },
  {
   "cell_type": "code",
   "execution_count": 82,
   "metadata": {},
   "outputs": [],
   "source": [
    "import os\n",
    "import gzip\n",
    "import numpy as np\n",
    "import urllib.request\n",
    "import torch\n",
    "import torch.nn as nn\n",
    "import torch.optim as optim\n",
    "from torchvision import models, transforms\n",
    "from torch.utils.data import DataLoader, Dataset\n",
    "import matplotlib.pyplot as plt\n",
    "from PIL import Image"
   ]
  },
  {
   "cell_type": "code",
   "execution_count": 83,
   "metadata": {},
   "outputs": [],
   "source": [
    "# URLs for MNIST dataset files\n",
    "urls = {\n",
    "    \"train_images\": \"http://yann.lecun.com/exdb/mnist/train-images-idx3-ubyte.gz\",\n",
    "    \"train_labels\": \"http://yann.lecun.com/exdb/mnist/train-labels-idx1-ubyte.gz\",\n",
    "    \"test_images\": \"http://yann.lecun.com/exdb/mnist/t10k-images-idx3-ubyte.gz\",\n",
    "    \"test_labels\": \"http://yann.lecun.com/exdb/mnist/t10k-labels-idx1-ubyte.gz\"\n",
    "}"
   ]
  },
  {
   "cell_type": "markdown",
   "metadata": {},
   "source": [
    "#### 1.2. Download and Extract data"
   ]
  },
  {
   "cell_type": "markdown",
   "metadata": {},
   "source": [
    "Creates a directory named data. Calls the download_and_extract function for both training and test datasets to retrieve images and labels.\n",
    "Reshapes the images into a format suitable for processing: each image is reshaped from a flat array to a 28x28 matrix and normalized to a range between 0 and 1 by dividing by 255.Combines the training and test datasets into single arrays for both images and labels, enabling easier handling during model training.\n"
   ]
  },
  {
   "cell_type": "code",
   "execution_count": 84,
   "metadata": {},
   "outputs": [],
   "source": [
    "# Function to download and extract files\n",
    "def download_and_extract(url, path, is_label=False):\n",
    "    if not os.path.exists(path):\n",
    "        print(f\"Downloading {url}...\")\n",
    "        urllib.request.urlretrieve(url, path)\n",
    "        print(f\"Downloaded {path}\")\n",
    "    else:\n",
    "        print(f\"{path} already exists, skipping download.\")\n",
    "\n",
    "    offset = 8 if is_label else 16  # Adjust for different header sizes\n",
    "    with gzip.open(path, 'rb') as f:\n",
    "        return np.frombuffer(f.read(), dtype=np.uint8)[offset:]\n",
    "\n",
    "def load_mnist_data():\n",
    "    os.makedirs('./data', exist_ok=True)\n",
    "\n",
    "    # Download and extract the MNIST data\n",
    "    train_images = download_and_extract(urls['train_images'], './data/train-images.gz')\n",
    "    train_labels = download_and_extract(urls['train_labels'], './data/train-labels.gz', is_label=True)\n",
    "    test_images = download_and_extract(urls['test_images'], './data/test-images.gz')\n",
    "    test_labels = download_and_extract(urls['test_labels'], './data/test-labels.gz', is_label=True)\n",
    "\n",
    "    # Reshape and normalize the images\n",
    "    train_images = train_images.reshape(-1, 28, 28) / 255.0\n",
    "    test_images = test_images.reshape(-1, 28, 28) / 255.0\n",
    "\n",
    "    # Combine train and test datasets for custom split\n",
    "    images = np.concatenate((train_images, test_images), axis=0)\n",
    "    labels = np.concatenate((train_labels, test_labels), axis=0)\n",
    "        \n",
    "    return images, labels"
   ]
  },
  {
   "cell_type": "markdown",
   "metadata": {},
   "source": [
    "#### 1.3. Split the dataset"
   ]
  },
  {
   "cell_type": "code",
   "execution_count": 85,
   "metadata": {},
   "outputs": [
    {
     "name": "stdout",
     "output_type": "stream",
     "text": [
      "./data/train-images.gz already exists, skipping download.\n",
      "./data/train-labels.gz already exists, skipping download.\n",
      "./data/test-images.gz already exists, skipping download.\n",
      "./data/test-labels.gz already exists, skipping download.\n",
      "MNIST data downloaded and loaded.\n",
      "Training set size: 42000\n",
      "Validation set size: 14000\n",
      "Test set size: 14000\n"
     ]
    }
   ],
   "source": [
    "# Load the MNIST data\n",
    "images, labels = load_mnist_data()\n",
    "print(\"MNIST data downloaded and loaded.\")\n",
    "\n",
    "# Split data into training, validation, and testing sets\n",
    "def split_data(images, labels):\n",
    "    total_size = len(images)\n",
    "\n",
    "    # Sizes for each split\n",
    "    train_size = int(0.6 * total_size)\n",
    "    val_size = int(0.2 * total_size)\n",
    "    test_size = total_size - train_size - val_size\n",
    "\n",
    "    train_images, train_labels = images[:train_size], labels[:train_size]\n",
    "    val_images, val_labels = images[train_size:train_size+val_size], labels[train_size:train_size+val_size]\n",
    "    test_images, test_labels = images[train_size+val_size:], labels[train_size+val_size:]\n",
    "\n",
    "    return (train_images, train_labels), (val_images, val_labels), (test_images, test_labels)\n",
    "\n",
    "(train_images, train_labels), (val_images, val_labels), (test_images, test_labels) = split_data(images, labels)\n",
    "\n",
    "print(f\"Training set size: {len(train_images)}\")\n",
    "print(f\"Validation set size: {len(val_images)}\")\n",
    "print(f\"Test set size: {len(test_images)}\")\n"
   ]
  },
  {
   "cell_type": "markdown",
   "metadata": {},
   "source": [
    "#### 1.4. Custom Dataset for MNIST\n",
    "\n",
    "This section of the code defines a custom dataset class for the MNIST dataset, enabling the integration of MNIST images into PyTorch's DataLoader for model training and evaluation."
   ]
  },
  {
   "cell_type": "code",
   "execution_count": 86,
   "metadata": {},
   "outputs": [],
   "source": [
    "# Define the custom dataset for MNIST\n",
    "class MNISTDataset(Dataset):\n",
    "    def __init__(self, images, labels, transform=None):\n",
    "        self.images = images\n",
    "        self.labels = labels\n",
    "        self.transform = transform\n",
    "\n",
    "    def __len__(self):\n",
    "        return len(self.images)\n",
    "\n",
    "    def __getitem__(self, idx):\n",
    "        image = self.images[idx]\n",
    "        label = self.labels[idx]\n",
    "        image = np.stack([image] * 3, axis=-1)  # Convert to 3 channels for GoogLeNet\n",
    "\n",
    "        # Convert the numpy array to a PIL Image\n",
    "        image = Image.fromarray((image * 255).astype(np.uint8))\n",
    "\n",
    "        if self.transform:\n",
    "            image = self.transform(image)\n",
    "\n",
    "        return image, label"
   ]
  },
  {
   "cell_type": "markdown",
   "metadata": {},
   "source": [
    "#### 1.5. Data Transformations and Data Loaders\n",
    "\n",
    "In this section, I defined the transformations to be applied to the MNIST dataset images and set up DataLoaders for efficient data handling during model training and evaluation."
   ]
  },
  {
   "cell_type": "code",
   "execution_count": 87,
   "metadata": {},
   "outputs": [],
   "source": [
    "# Define transformations and data loaders with explicit float conversion\n",
    "transform = transforms.Compose([\n",
    "    transforms.Resize((32, 32)),  # Resize to 32x32 pixels\n",
    "    transforms.ToTensor(),\n",
    "    transforms.Normalize((0.5, 0.5, 0.5), (0.5, 0.5, 0.5))  # Normalize across 3 channels\n",
    "])\n",
    "\n",
    "# Use the updated transform in the Dataset class\n",
    "train_dataset = MNISTDataset(train_images, train_labels, transform=transform)\n",
    "val_dataset = MNISTDataset(val_images, val_labels, transform=transform)\n",
    "test_dataset = MNISTDataset(test_images, test_labels, transform=transform)\n",
    "\n",
    "train_loader = DataLoader(train_dataset, batch_size=64, shuffle=True)\n",
    "val_loader = DataLoader(val_dataset, batch_size=64, shuffle=False)\n",
    "test_loader = DataLoader(test_dataset, batch_size=64, shuffle=False)"
   ]
  },
  {
   "cell_type": "markdown",
   "metadata": {},
   "source": [
    "#### 1.6. Load the Googlenet model\n"
   ]
  },
  {
   "cell_type": "code",
   "execution_count": 88,
   "metadata": {},
   "outputs": [],
   "source": [
    "# Load GoogLeNet model and set the final layer for 10 classes \n",
    "device = torch.device(\"cuda\" if torch.cuda.is_available() else \"cpu\")\n",
    "model = models.googlenet(pretrained=True)\n",
    "model.fc = nn.Linear(model.fc.in_features, 10)  \n",
    "model = model.to(device)\n",
    "\n",
    "# Define loss function and optimizer\n",
    "criterion = nn.CrossEntropyLoss()\n",
    "optimizer = optim.Adam(model.parameters(), lr=0.001)"
   ]
  },
  {
   "cell_type": "markdown",
   "metadata": {},
   "source": [
    "#### 1.7. Train model"
   ]
  },
  {
   "cell_type": "code",
   "execution_count": 89,
   "metadata": {},
   "outputs": [],
   "source": [
    "# Training function\n",
    "def train_model(model, train_loader, val_loader, criterion, optimizer, num_epochs=20):\n",
    "    train_losses, val_losses = [], []\n",
    "    for epoch in range(num_epochs):\n",
    "        model.train()\n",
    "        running_loss = 0.0\n",
    "        for images, labels in train_loader:\n",
    "            images, labels = images.to(device), labels.to(device)\n",
    "            \n",
    "            optimizer.zero_grad()\n",
    "            outputs = model(images)\n",
    "            loss = criterion(outputs, labels)\n",
    "            loss.backward()\n",
    "            optimizer.step()\n",
    "            \n",
    "            running_loss += loss.item()\n",
    "        train_losses.append(running_loss / len(train_loader))\n",
    "        \n",
    "        # Validation\n",
    "        model.eval()\n",
    "        val_loss = 0.0\n",
    "        with torch.no_grad():\n",
    "            for images, labels in val_loader:\n",
    "                images, labels = images.to(device), labels.to(device)\n",
    "                outputs = model(images)\n",
    "                loss = criterion(outputs, labels)\n",
    "                val_loss += loss.item()\n",
    "        val_losses.append(val_loss / len(val_loader))\n",
    "        \n",
    "        print(f\"Epoch [{epoch+1}/{num_epochs}], Train Loss: {train_losses[-1]:.4f}, Val Loss: {val_losses[-1]:.4f}\")\n",
    "    \n",
    "    return train_losses, val_losses"
   ]
  },
  {
   "cell_type": "code",
   "execution_count": 90,
   "metadata": {},
   "outputs": [
    {
     "name": "stdout",
     "output_type": "stream",
     "text": [
      "Epoch [1/20], Train Loss: 0.1648, Val Loss: 0.0496\n",
      "Epoch [2/20], Train Loss: 0.0633, Val Loss: 0.0454\n",
      "Epoch [3/20], Train Loss: 0.0510, Val Loss: 0.0382\n",
      "Epoch [4/20], Train Loss: 0.0417, Val Loss: 0.0494\n",
      "Epoch [5/20], Train Loss: 0.0384, Val Loss: 0.0390\n",
      "Epoch [6/20], Train Loss: 0.0322, Val Loss: 0.0468\n",
      "Epoch [7/20], Train Loss: 0.0299, Val Loss: 0.0312\n",
      "Epoch [8/20], Train Loss: 0.0289, Val Loss: 0.0442\n",
      "Epoch [9/20], Train Loss: 0.0257, Val Loss: 0.0430\n",
      "Epoch [10/20], Train Loss: 0.0264, Val Loss: 0.0345\n",
      "Epoch [11/20], Train Loss: 0.0227, Val Loss: 0.0613\n",
      "Epoch [12/20], Train Loss: 0.0210, Val Loss: 0.0435\n",
      "Epoch [13/20], Train Loss: 0.0206, Val Loss: 0.0395\n",
      "Epoch [14/20], Train Loss: 0.0146, Val Loss: 0.0438\n",
      "Epoch [15/20], Train Loss: 0.0206, Val Loss: 0.0343\n",
      "Epoch [16/20], Train Loss: 0.0106, Val Loss: 0.0351\n",
      "Epoch [17/20], Train Loss: 0.0104, Val Loss: 0.0304\n",
      "Epoch [18/20], Train Loss: 0.0094, Val Loss: 0.0398\n",
      "Epoch [19/20], Train Loss: 0.0122, Val Loss: 0.0373\n",
      "Epoch [20/20], Train Loss: 0.0111, Val Loss: 0.0337\n"
     ]
    },
    {
     "data": {
      "image/png": "[encoded data removed]",
      "text/plain": [
       "<Figure size 1000x500 with 1 Axes>"
      ]
     },
     "metadata": {},
     "output_type": "display_data"
    }
   ],
   "source": [
    "# Train the model and record losses\n",
    "num_epochs = 20\n",
    "train_losses, val_losses = train_model(model, train_loader, val_loader, criterion, optimizer, num_epochs=num_epochs)\n",
    "\n",
    "# Plot the loss vs. epochs graph\n",
    "plt.figure(figsize=(10, 5))\n",
    "plt.plot(range(num_epochs), train_losses, label='Train Loss')\n",
    "plt.plot(range(num_epochs), val_losses, label='Validation Loss')\n",
    "plt.xlabel(\"Epochs\")\n",
    "plt.ylabel(\"Loss\")\n",
    "plt.legend()\n",
    "plt.title(\"Loss vs. Epochs for GoogLeNet on MNIST\")\n",
    "plt.show()\n"
   ]
  }
 ],
 "metadata": {
  "kernelspec": {
   "display_name": "ProjectCNN",
   "language": "python",
   "name": "python3"
  },
  "language_info": {
   "codemirror_mode": {
    "name": "ipython",
    "version": 3
   },
   "file_extension": ".py",
   "mimetype": "text/x-python",
   "name": "python",
   "nbconvert_exporter": "python",
   "pygments_lexer": "ipython3",
   "version": "3.11.9"
  }
 },
 "nbformat": 4,
 "nbformat_minor": 2
}
